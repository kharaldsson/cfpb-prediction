{
 "cells": [
  {
   "cell_type": "markdown",
   "id": "automatic-sculpture",
   "metadata": {},
   "source": [
    "# Compression Notebook\n",
    "This notebook exists to compress the cfpb csv, which is too large for github."
   ]
  },
  {
   "cell_type": "code",
   "execution_count": 1,
   "id": "comparative-salmon",
   "metadata": {},
   "outputs": [],
   "source": [
    "import pandas as pd\n",
    "import numpy as np\n",
    "\n",
    "import time\n",
    "import os"
   ]
  },
  {
   "cell_type": "code",
   "execution_count": 4,
   "id": "remarkable-joint",
   "metadata": {},
   "outputs": [],
   "source": [
    "PATH_PARENT = os.path.dirname(os.getcwd())\n",
    "PATH_RAW = PATH_PARENT + \"\\\\data_raw\\\\\"\n",
    "PATH_PROC = PATH_PARENT + \"\\\\data_processed\\\\\""
   ]
  },
  {
   "cell_type": "code",
   "execution_count": 30,
   "id": "refined-costa",
   "metadata": {},
   "outputs": [
    {
     "name": "stderr",
     "output_type": "stream",
     "text": [
      "C:\\ProgramData\\Anaconda3\\envs\\cfpb-kerasgpu-env\\lib\\site-packages\\IPython\\core\\interactiveshell.py:3155: DtypeWarning: Columns (5) have mixed types.Specify dtype option on import or set low_memory=False.\n",
      "  has_raised = await self.run_ast_nodes(code_ast.body, cell_name,\n"
     ]
    }
   ],
   "source": [
    "cc_raw_df = pd.read_csv(PATH_RAW+\"Consumer_Complaints_20190324.csv\"\n",
    "                        , dtype={\"Product\": \"category\", \"Sub-product\": \"category\", \"Issue\": \"category\"\n",
    "                              , \"Sub-issue\": \"category\", \"Company public response\": \"category\"\n",
    "                              , \"Consumer consent provided?\": \"category\", \"Consumer disputed?\": \"category\"\n",
    "                              , \"Submitted via\": \"category\", \"Tags\": \"category\"\n",
    "                              , \"State\": \"category\", \"Timely response?\": \"category\"                                \n",
    "                                }\n",
    "                       )"
   ]
  },
  {
   "cell_type": "code",
   "execution_count": 31,
   "id": "hungry-riverside",
   "metadata": {},
   "outputs": [
    {
     "data": {
      "text/html": [
       "<div>\n",
       "<style scoped>\n",
       "    .dataframe tbody tr th:only-of-type {\n",
       "        vertical-align: middle;\n",
       "    }\n",
       "\n",
       "    .dataframe tbody tr th {\n",
       "        vertical-align: top;\n",
       "    }\n",
       "\n",
       "    .dataframe thead th {\n",
       "        text-align: right;\n",
       "    }\n",
       "</style>\n",
       "<table border=\"1\" class=\"dataframe\">\n",
       "  <thead>\n",
       "    <tr style=\"text-align: right;\">\n",
       "      <th></th>\n",
       "      <th>Date received</th>\n",
       "      <th>Product</th>\n",
       "      <th>Sub-product</th>\n",
       "      <th>Issue</th>\n",
       "      <th>Sub-issue</th>\n",
       "      <th>Consumer complaint narrative</th>\n",
       "      <th>Company public response</th>\n",
       "      <th>Company</th>\n",
       "      <th>State</th>\n",
       "      <th>ZIP code</th>\n",
       "      <th>Tags</th>\n",
       "      <th>Consumer consent provided?</th>\n",
       "      <th>Submitted via</th>\n",
       "      <th>Date sent to company</th>\n",
       "      <th>Company response to consumer</th>\n",
       "      <th>Timely response?</th>\n",
       "      <th>Consumer disputed?</th>\n",
       "      <th>Complaint ID</th>\n",
       "    </tr>\n",
       "  </thead>\n",
       "  <tbody>\n",
       "    <tr>\n",
       "      <th>0</th>\n",
       "      <td>03/22/2019</td>\n",
       "      <td>Mortgage</td>\n",
       "      <td>Conventional home mortgage</td>\n",
       "      <td>Applying for a mortgage or refinancing an exis...</td>\n",
       "      <td>NaN</td>\n",
       "      <td>NaN</td>\n",
       "      <td>NaN</td>\n",
       "      <td>OCWEN LOAN SERVICING LLC</td>\n",
       "      <td>VA</td>\n",
       "      <td>221XX</td>\n",
       "      <td>NaN</td>\n",
       "      <td>NaN</td>\n",
       "      <td>Web</td>\n",
       "      <td>03/22/2019</td>\n",
       "      <td>Closed with explanation</td>\n",
       "      <td>Yes</td>\n",
       "      <td>NaN</td>\n",
       "      <td>3187532</td>\n",
       "    </tr>\n",
       "    <tr>\n",
       "      <th>1</th>\n",
       "      <td>03/22/2019</td>\n",
       "      <td>Credit reporting, credit repair services, or o...</td>\n",
       "      <td>Credit reporting</td>\n",
       "      <td>Problem with a credit reporting company's inve...</td>\n",
       "      <td>Their investigation did not fix an error on yo...</td>\n",
       "      <td>NaN</td>\n",
       "      <td>Company has responded to the consumer and the ...</td>\n",
       "      <td>USCB Corporation</td>\n",
       "      <td>MD</td>\n",
       "      <td>207XX</td>\n",
       "      <td>NaN</td>\n",
       "      <td>NaN</td>\n",
       "      <td>Web</td>\n",
       "      <td>03/22/2019</td>\n",
       "      <td>Closed with explanation</td>\n",
       "      <td>Yes</td>\n",
       "      <td>NaN</td>\n",
       "      <td>3188247</td>\n",
       "    </tr>\n",
       "    <tr>\n",
       "      <th>2</th>\n",
       "      <td>03/22/2019</td>\n",
       "      <td>Vehicle loan or lease</td>\n",
       "      <td>Loan</td>\n",
       "      <td>Struggling to pay your loan</td>\n",
       "      <td>Loan balance remaining after the vehicle is re...</td>\n",
       "      <td>NaN</td>\n",
       "      <td>Company has responded to the consumer and the ...</td>\n",
       "      <td>First Investors Financial Services Group, Inc.</td>\n",
       "      <td>IL</td>\n",
       "      <td>NaN</td>\n",
       "      <td>NaN</td>\n",
       "      <td>NaN</td>\n",
       "      <td>Web</td>\n",
       "      <td>03/22/2019</td>\n",
       "      <td>Closed with explanation</td>\n",
       "      <td>Yes</td>\n",
       "      <td>NaN</td>\n",
       "      <td>3187579</td>\n",
       "    </tr>\n",
       "    <tr>\n",
       "      <th>3</th>\n",
       "      <td>03/22/2019</td>\n",
       "      <td>Money transfer, virtual currency, or money ser...</td>\n",
       "      <td>International money transfer</td>\n",
       "      <td>Other transaction problem</td>\n",
       "      <td>NaN</td>\n",
       "      <td>NaN</td>\n",
       "      <td>NaN</td>\n",
       "      <td>RIA FINANCIAL</td>\n",
       "      <td>CA</td>\n",
       "      <td>90280</td>\n",
       "      <td>NaN</td>\n",
       "      <td>NaN</td>\n",
       "      <td>Phone</td>\n",
       "      <td>03/22/2019</td>\n",
       "      <td>In progress</td>\n",
       "      <td>Yes</td>\n",
       "      <td>NaN</td>\n",
       "      <td>3187502</td>\n",
       "    </tr>\n",
       "    <tr>\n",
       "      <th>4</th>\n",
       "      <td>03/22/2019</td>\n",
       "      <td>Debt collection</td>\n",
       "      <td>Other debt</td>\n",
       "      <td>Written notification about debt</td>\n",
       "      <td>Didn't receive enough information to verify debt</td>\n",
       "      <td>NaN</td>\n",
       "      <td>NaN</td>\n",
       "      <td>ALLY FINANCIAL INC.</td>\n",
       "      <td>FL</td>\n",
       "      <td>33162</td>\n",
       "      <td>NaN</td>\n",
       "      <td>NaN</td>\n",
       "      <td>Web</td>\n",
       "      <td>03/22/2019</td>\n",
       "      <td>In progress</td>\n",
       "      <td>Yes</td>\n",
       "      <td>NaN</td>\n",
       "      <td>3187649</td>\n",
       "    </tr>\n",
       "  </tbody>\n",
       "</table>\n",
       "</div>"
      ],
      "text/plain": [
       "  Date received                                            Product  \\\n",
       "0    03/22/2019                                           Mortgage   \n",
       "1    03/22/2019  Credit reporting, credit repair services, or o...   \n",
       "2    03/22/2019                              Vehicle loan or lease   \n",
       "3    03/22/2019  Money transfer, virtual currency, or money ser...   \n",
       "4    03/22/2019                                    Debt collection   \n",
       "\n",
       "                    Sub-product  \\\n",
       "0    Conventional home mortgage   \n",
       "1              Credit reporting   \n",
       "2                          Loan   \n",
       "3  International money transfer   \n",
       "4                    Other debt   \n",
       "\n",
       "                                               Issue  \\\n",
       "0  Applying for a mortgage or refinancing an exis...   \n",
       "1  Problem with a credit reporting company's inve...   \n",
       "2                        Struggling to pay your loan   \n",
       "3                          Other transaction problem   \n",
       "4                    Written notification about debt   \n",
       "\n",
       "                                           Sub-issue  \\\n",
       "0                                                NaN   \n",
       "1  Their investigation did not fix an error on yo...   \n",
       "2  Loan balance remaining after the vehicle is re...   \n",
       "3                                                NaN   \n",
       "4   Didn't receive enough information to verify debt   \n",
       "\n",
       "  Consumer complaint narrative  \\\n",
       "0                          NaN   \n",
       "1                          NaN   \n",
       "2                          NaN   \n",
       "3                          NaN   \n",
       "4                          NaN   \n",
       "\n",
       "                             Company public response  \\\n",
       "0                                                NaN   \n",
       "1  Company has responded to the consumer and the ...   \n",
       "2  Company has responded to the consumer and the ...   \n",
       "3                                                NaN   \n",
       "4                                                NaN   \n",
       "\n",
       "                                          Company State ZIP code Tags  \\\n",
       "0                        OCWEN LOAN SERVICING LLC    VA    221XX  NaN   \n",
       "1                                USCB Corporation    MD    207XX  NaN   \n",
       "2  First Investors Financial Services Group, Inc.    IL      NaN  NaN   \n",
       "3                                   RIA FINANCIAL    CA    90280  NaN   \n",
       "4                             ALLY FINANCIAL INC.    FL    33162  NaN   \n",
       "\n",
       "  Consumer consent provided? Submitted via Date sent to company  \\\n",
       "0                        NaN           Web           03/22/2019   \n",
       "1                        NaN           Web           03/22/2019   \n",
       "2                        NaN           Web           03/22/2019   \n",
       "3                        NaN         Phone           03/22/2019   \n",
       "4                        NaN           Web           03/22/2019   \n",
       "\n",
       "  Company response to consumer Timely response? Consumer disputed?  \\\n",
       "0      Closed with explanation              Yes                NaN   \n",
       "1      Closed with explanation              Yes                NaN   \n",
       "2      Closed with explanation              Yes                NaN   \n",
       "3                  In progress              Yes                NaN   \n",
       "4                  In progress              Yes                NaN   \n",
       "\n",
       "   Complaint ID  \n",
       "0       3187532  \n",
       "1       3188247  \n",
       "2       3187579  \n",
       "3       3187502  \n",
       "4       3187649  "
      ]
     },
     "execution_count": 31,
     "metadata": {},
     "output_type": "execute_result"
    }
   ],
   "source": [
    "cc_proc_df = cc_raw_df.copy()\n",
    "cc_proc_df.head()"
   ]
  },
  {
   "cell_type": "code",
   "execution_count": 32,
   "id": "naked-disposal",
   "metadata": {},
   "outputs": [],
   "source": [
    "# d.memory_usage()\n",
    "# d[\"Complaint.ID\"].fillna(0)\n",
    "# cc_raw_df['ID'] = cc_raw_df['ID'].fillna(0).astype(np.int32)\n",
    "cc_proc_df['Complaint ID'] = cc_proc_df['Complaint ID'].fillna(0).astype(np.int32)"
   ]
  },
  {
   "cell_type": "code",
   "execution_count": 33,
   "id": "motivated-negotiation",
   "metadata": {},
   "outputs": [
    {
     "data": {
      "text/plain": [
       "Index                               128\n",
       "Date received                   9956664\n",
       "Product                         1245283\n",
       "Sub-product                     1247295\n",
       "Issue                           2494670\n",
       "Sub-issue                       2499206\n",
       "Consumer complaint narrative    9956664\n",
       "Company public response         1244963\n",
       "Company                         9956664\n",
       "State                           1247191\n",
       "ZIP code                        9956664\n",
       "Tags                            1244715\n",
       "Consumer consent provided?      1244787\n",
       "Submitted via                   1244803\n",
       "Date sent to company            9956664\n",
       "Company response to consumer    9956664\n",
       "Timely response?                1244707\n",
       "Consumer disputed?              1244707\n",
       "Complaint ID                    9956664\n",
       "dtype: int64"
      ]
     },
     "execution_count": 33,
     "metadata": {},
     "output_type": "execute_result"
    }
   ],
   "source": [
    "cc_raw_df.memory_usage()"
   ]
  },
  {
   "cell_type": "code",
   "execution_count": 34,
   "id": "headed-bermuda",
   "metadata": {},
   "outputs": [
    {
     "data": {
      "text/plain": [
       "Index                               128\n",
       "Date received                   9956664\n",
       "Product                         1245283\n",
       "Sub-product                     1247295\n",
       "Issue                           2494670\n",
       "Sub-issue                       2499206\n",
       "Consumer complaint narrative    9956664\n",
       "Company public response         1244963\n",
       "Company                         9956664\n",
       "State                           1247191\n",
       "ZIP code                        9956664\n",
       "Tags                            1244715\n",
       "Consumer consent provided?      1244787\n",
       "Submitted via                   1244803\n",
       "Date sent to company            9956664\n",
       "Company response to consumer    9956664\n",
       "Timely response?                1244707\n",
       "Consumer disputed?              1244707\n",
       "Complaint ID                    4978332\n",
       "dtype: int64"
      ]
     },
     "execution_count": 34,
     "metadata": {},
     "output_type": "execute_result"
    }
   ],
   "source": [
    "cc_proc_df.memory_usage()"
   ]
  },
  {
   "cell_type": "code",
   "execution_count": 40,
   "id": "foreign-armstrong",
   "metadata": {},
   "outputs": [],
   "source": [
    "cc_proc_df.to_pickle(PATH_PROC+\"Consumer_Complaints_20190324_2.pkl\", compression='zip')"
   ]
  },
  {
   "cell_type": "code",
   "execution_count": 42,
   "id": "pharmaceutical-large",
   "metadata": {},
   "outputs": [
    {
     "data": {
      "text/plain": [
       "(1244583, 18)"
      ]
     },
     "execution_count": 42,
     "metadata": {},
     "output_type": "execute_result"
    }
   ],
   "source": [
    "cc_proc_test = pd.read_pickle(PATH_PROC+\"Consumer_Complaints_20190324_2.pkl\", compression='zip')\n",
    "cc_proc_test.shape"
   ]
  },
  {
   "cell_type": "code",
   "execution_count": 46,
   "id": "pretty-destruction",
   "metadata": {},
   "outputs": [],
   "source": [
    "\"\"\"\n",
    "FUNCTIONS\n",
    "\"\"\"\n",
    "\n",
    "def createSpreadsheets(dataframe, version, chunk_size):\n",
    "    if len(dataframe) >  chunk_size:\n",
    "        remainder = len(dataframe)%chunk_size\n",
    "        matters_create_remainder = dataframe.iloc[0:remainder+1]\n",
    "        matters_create_chunkable = dataframe.iloc[remainder:]\n",
    "    \n",
    "        # Write matters_create_remainder to data_out\n",
    "        matters_create_remainder.to_pickle(PATH_PROC+'/Consumer_Complaints_'+version+'_00.pkl', compression='zip')\n",
    "    \n",
    "        # Write matters_Create_chunkable to data_out\n",
    "        chunksize = chunk_size\n",
    "        i = 1\n",
    "        for chunk in np.split(matters_create_chunkable,len(matters_create_chunkable) // chunksize):\n",
    "            chunk.to_pickle(PATH_PROC+'/Consumer_Complaints_'+version+'_{:02d}.pkl'.format(i), compression='zip')\n",
    "            i += 1\n",
    "    else:\n",
    "        # Write update matters to data-out\n",
    "        matters_update.to_pickle(PATH_PROC+'/Consumer_Complaints_'+version+'_00.pkl', compression='zip')\n",
    "        \n",
    "        # Write matters_create_remainder to data_out\n",
    "        dataframe.to_pickle(PATH_PROC+'/Consumer_Complaints_'+version+'_00.pkl', compression='zip')\n"
   ]
  },
  {
   "cell_type": "code",
   "execution_count": 47,
   "id": "progressive-thermal",
   "metadata": {},
   "outputs": [],
   "source": [
    "createSpreadsheets(cc_proc_df,  version='20190324', chunk_size=100000)"
   ]
  },
  {
   "cell_type": "code",
   "execution_count": null,
   "id": "normal-shopping",
   "metadata": {},
   "outputs": [],
   "source": []
  }
 ],
 "metadata": {
  "kernelspec": {
   "display_name": "cfpb-kerasgpu-env",
   "language": "python",
   "name": "cfpb-kerasgpu-env"
  },
  "language_info": {
   "codemirror_mode": {
    "name": "ipython",
    "version": 3
   },
   "file_extension": ".py",
   "mimetype": "text/x-python",
   "name": "python",
   "nbconvert_exporter": "python",
   "pygments_lexer": "ipython3",
   "version": "3.8.5"
  }
 },
 "nbformat": 4,
 "nbformat_minor": 5
}
